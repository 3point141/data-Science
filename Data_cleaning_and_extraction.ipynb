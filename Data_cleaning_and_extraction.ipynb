{
 "cells": [
  {
   "cell_type": "code",
   "execution_count": null,
   "metadata": {},
   "outputs": [],
   "source": [
    "# the dataset given need not be complete, hence we do 'data cleaning' \n",
    "# missing vaules are denoted by 'NA'\n",
    "# easiest way to clean up data is to delete the lines that contain 'NA'\n",
    "\n",
    "myfile=open('/home/aman/Desktop/data/a.csv')\n",
    "clean_data=[]\n",
    "for i in myfile:\n",
    "    if 'NA' not in myfile:\n",
    "        clean_data.append(i)\n",
    "    \n",
    "print(''.join(clean_data))"
   ]
  },
  {
   "cell_type": "code",
   "execution_count": null,
   "metadata": {},
   "outputs": [],
   "source": [
    "# transferring data into analyzable form\n",
    "# example extracting threat_level into a new list called threat\n",
    "\n",
    "#availavle columns are : id name date manner_of_death armed age gender race city state signs_of_mental_illness threat_level flee body_camera\n",
    "\n",
    "myfile=open('/home/aman/Documents/backup.csv')\n",
    "threat = []\n",
    "\n",
    "for i in myfile:\n",
    "    threat.append(i[11])\n",
    "    \n",
    "print(threat)\n",
    "    "
   ]
  },
  {
   "cell_type": "code",
   "execution_count": 2,
   "metadata": {},
   "outputs": [
    {
     "name": "stdout",
     "output_type": "stream",
     "text": [
      "['attack', 'attack', 'other', 'attack', 'attack', 'attack', 'attack', 'attack', 'other', 'attack', 'attack', 'attack', 'other', 'attack', 'attack', 'undetermined', 'attack', 'attack', 'attack', 'attack', 'attack', 'attack', 'attack', 'attack', 'attack', 'other', 'attack', 'attack', 'attack', 'attack', 'attack', 'attack', 'attack', 'attack', 'attack', 'other', 'attack', 'attack', 'other', 'attack', 'attack', 'attack', 'attack', 'attack', 'attack', 'other', 'attack', 'attack', 'attack', 'attack', 'attack', 'other', 'attack', 'other', 'other', 'attack', 'attack', 'other', 'attack', 'attack', 'other', 'attack', 'other', 'other', 'other', 'attack', 'attack', 'attack', 'attack', 'attack', 'attack', 'other', 'attack', 'attack', 'attack', 'other', 'attack', 'other', 'attack', 'attack', 'attack', 'other', 'attack', 'attack', 'attack', 'attack', 'other', 'attack', 'other', 'other', 'attack', 'attack', 'attack', 'attack', 'attack', 'attack', 'attack', 'attack', 'undetermined', 'attack', 'other', 'attack', 'attack', 'other', 'attack', 'attack', 'attack', 'other', 'attack', 'other', 'attack', 'attack', 'other', 'attack', 'other', 'attack', 'attack', 'attack', 'attack', 'other', 'attack', 'attack', 'other', 'other', 'attack', 'other', 'attack', 'attack', 'attack', 'attack', 'attack', 'attack', 'other', 'attack', 'other', 'attack', 'attack', 'attack', 'other', 'attack', 'other', 'attack', 'other', 'other', 'attack', 'undetermined', 'attack', 'attack', 'other', 'other', 'attack', 'attack', 'attack', 'attack', 'attack', 'attack', 'other', 'attack', 'attack', 'other', 'attack', 'other', 'other', 'attack', 'undetermined', 'other', 'attack', 'attack', 'attack', 'attack', 'other', 'attack', 'attack', 'attack', 'other', 'attack', 'attack', 'other', 'attack', 'attack', 'attack', 'attack', 'other', 'attack', 'attack', 'other', 'other', 'attack', 'attack', 'other', 'other', 'attack', 'other', 'attack', 'other', 'attack', 'attack', 'attack', 'undetermined', 'attack', 'attack', 'other', 'other', 'attack', 'attack', 'attack', 'attack', 'attack', 'other', 'attack', 'attack', 'attack', 'attack', 'attack', 'attack', 'attack', 'attack', 'attack', 'other', 'other', 'attack', 'attack', 'attack', 'attack', 'attack', 'other', 'attack', 'attack', 'other', 'attack', 'other', 'attack', 'other', 'attack', 'attack', 'other', 'attack', 'attack', 'attack', 'attack', 'attack', 'attack', 'attack', 'attack', 'other', 'attack', 'attack', 'attack', 'attack', 'other', 'attack', 'other', 'attack', 'other', 'attack', 'attack', 'other', 'attack', 'attack', 'attack', 'attack', 'attack', 'attack', 'attack', 'attack', 'other', 'attack', 'attack', 'attack', 'attack', 'attack', 'attack', 'attack', 'attack', 'attack', 'other', 'attack', 'attack', 'undetermined', 'attack', 'undetermined', 'attack', 'other', 'attack', 'attack', 'attack', 'other', 'attack', 'attack', 'other', 'attack', 'attack', 'attack', 'attack', 'other', 'attack', 'other', 'other', 'other', 'undetermined', 'other', 'attack', 'attack', 'attack', 'attack', 'attack', 'other', 'attack', 'attack', 'attack', 'attack', 'other', 'attack', 'other', 'attack', 'attack', 'attack', 'other', 'attack', 'attack', 'attack', 'other', 'attack', 'attack', 'attack', 'attack', 'attack', 'other', 'other', 'attack', 'attack', 'attack', 'attack', 'attack', 'attack', 'attack', 'attack', 'attack', 'attack', 'attack', 'other', 'other', 'attack', 'attack', 'attack', 'attack', 'attack', 'attack', 'other', 'attack', 'other', 'other', 'attack', 'other', 'attack', 'attack', 'attack', 'attack', 'attack', 'attack', 'attack', 'other', 'attack', 'attack', 'attack', 'attack', 'other', 'attack', 'other', 'attack', 'undetermined', 'attack', 'attack', 'other', 'attack', 'attack', 'attack', 'attack', 'attack', 'attack', 'attack', 'attack', 'attack', 'attack', 'attack', 'attack', 'attack', 'other', 'other', 'attack', 'attack', 'attack', 'attack', 'other', 'attack', 'attack', 'attack', 'attack', 'attack', 'attack', 'attack', 'other', 'attack', 'attack', 'attack', 'attack', 'other', 'attack', 'attack', 'other', 'attack', 'attack', 'attack', 'other', 'attack', 'attack', 'attack', 'attack', 'other', 'attack', 'attack', 'attack', 'attack', 'other', 'attack', 'attack', 'attack', 'other', 'attack', 'other', 'attack', 'attack', 'other', 'attack', 'attack', 'attack', 'other', 'attack', 'attack', 'attack', 'attack', 'attack', 'other', 'attack', 'attack', 'attack', 'other', 'other', 'attack', 'attack', 'attack', 'attack', 'other', 'attack', 'other', 'attack', 'attack', 'other', 'attack', 'attack', 'other', 'attack', 'attack', 'attack', 'attack', 'attack', 'attack', 'attack', 'other', 'attack', 'attack', 'attack', 'attack', 'attack', 'attack', 'attack', 'attack', 'attack', 'attack', 'attack', 'attack', 'attack', 'other', 'attack', 'other', 'attack', 'attack', 'attack', 'attack', 'other', 'attack', 'attack', 'attack', 'attack', 'attack', 'other', 'attack', 'attack', 'attack', 'attack', 'attack', 'attack', 'attack', 'other', 'attack', 'attack', 'attack', 'attack', 'other', 'attack', 'attack', 'attack', 'attack', 'attack', 'attack', 'attack', 'other', 'attack', 'attack', 'other', 'other', 'other', 'attack', 'attack', 'attack', 'attack', 'attack', 'other', 'attack', 'attack', 'attack', 'other', 'attack', 'attack', 'attack', 'other', 'attack', 'other', 'other', 'other', 'attack', 'attack', 'other', 'attack', 'attack', 'attack', 'attack', 'attack', 'attack', 'attack', 'other', 'attack', 'attack', 'attack', 'attack', 'attack', 'other', 'attack', 'attack', 'other', 'other', 'undetermined', 'attack', 'attack', 'attack', 'attack', 'attack', 'attack', 'attack', 'attack', 'attack', 'other', 'attack', 'attack', 'attack', 'attack', 'other', 'undetermined', 'attack', 'other', 'attack', 'attack', 'attack', 'attack', 'attack', 'attack', 'other', 'other', 'attack', 'other', 'attack', 'attack', 'attack', 'attack', 'attack', 'attack', 'attack', 'attack', 'attack', 'attack', 'other', 'attack', 'other', 'attack', 'attack', 'other', 'attack', 'attack', 'undetermined', 'attack', 'attack', 'attack', 'attack', 'attack', 'attack', 'attack', 'attack', 'other', 'attack', 'attack', 'other', 'attack', 'attack', 'attack', 'attack', 'attack', 'attack', 'attack', 'attack', 'attack', 'other', 'attack', 'attack', 'undetermined', 'attack', 'other', 'attack', 'attack', 'attack', 'attack', 'attack', 'attack', 'attack', 'attack', 'attack', 'attack', 'attack', 'attack', 'attack', 'attack', 'attack', 'other', 'attack', 'undetermined', 'attack', 'other', 'attack', 'attack', 'other', 'undetermined', 'attack', 'attack', 'attack', 'attack', 'attack', 'attack', 'attack', 'attack', 'attack', 'attack', 'attack', 'attack', 'other', 'attack', 'other', 'attack', 'undetermined', 'attack', 'attack', 'attack', 'other', 'attack', 'attack', 'other', 'attack', 'attack', 'attack', 'other', 'attack', 'attack', 'attack', 'attack', 'attack', 'undetermined', 'attack', 'attack', 'attack', 'attack', 'attack', 'attack', 'attack', 'attack', 'undetermined', 'attack', 'other', 'attack', 'attack', 'attack', 'undetermined', 'undetermined', 'attack', 'attack', 'attack', 'attack', 'attack', 'attack', 'attack', 'attack', 'attack', 'other', 'attack', 'attack', 'attack', 'attack', 'attack', 'attack', 'other', 'attack', 'undetermined', 'attack', 'attack', 'other', 'undetermined', 'other', 'attack', 'attack', 'attack', 'other', 'attack', 'attack', 'attack', 'attack', 'attack', 'attack', 'attack', 'attack', 'attack', 'other', 'undetermined', 'undetermined', 'attack', 'attack', 'attack', 'attack', 'other', 'attack', 'attack', 'attack', 'other', 'attack', 'attack', 'attack', 'other', 'attack', 'undetermined', 'undetermined', 'attack', 'attack', 'other', 'attack', 'attack', 'attack', 'attack', 'other', 'attack', 'attack', 'attack', 'attack', 'attack', 'attack', 'attack', 'attack', 'attack', 'attack', 'attack', 'undetermined', 'attack', 'other', 'undetermined', 'attack', 'attack', 'attack', 'attack', 'attack', 'attack', 'attack', 'other', 'attack', 'attack', 'attack', 'attack', 'other', 'attack', 'attack', 'attack', 'undetermined', 'attack', 'attack', 'attack', 'attack', 'other', 'attack', 'attack', 'attack', 'attack', 'attack', 'attack', 'attack', 'other', 'attack', 'attack', 'attack', 'other', 'attack', 'attack', 'other', 'attack', 'attack', 'undetermined', 'attack', 'other', 'attack', 'attack', 'attack', 'other', 'attack', 'attack', 'attack', 'attack', 'attack', 'other', 'undetermined', 'attack', 'attack', 'attack', 'attack', 'other', 'attack', 'attack', 'other', 'attack', 'other', 'attack', 'attack', 'attack', 'other', 'attack', 'undetermined', 'attack', 'other', 'attack', 'attack', 'attack', 'undetermined', 'undetermined', 'other', 'undetermined', 'attack', 'attack', 'other', 'other', 'attack', 'other', 'attack', 'attack', 'attack', 'other', 'attack', 'attack', 'attack', 'attack', 'attack', 'attack', 'other', 'attack', 'undetermined', 'attack', 'attack', 'attack', 'attack', 'attack', 'other', 'attack', 'other', 'attack', 'attack', 'attack', 'attack', 'attack', 'attack', 'attack', 'other', 'attack', 'attack', 'attack', 'attack', 'attack', 'other', 'other', 'attack', 'attack', 'other', 'attack', 'attack', 'other', 'other', 'attack', 'attack', 'attack', 'attack', 'other', 'other', 'attack', 'attack', 'attack', 'attack', 'attack', 'attack', 'attack', 'attack', 'attack', 'attack', 'attack', 'attack', 'attack', 'attack', 'attack', 'attack', 'other', 'attack', 'attack', 'attack', 'other', 'undetermined', 'attack', 'other', 'undetermined', 'attack', 'attack', 'attack', 'attack', 'other', 'attack', 'attack', 'attack', 'attack', 'attack', 'attack', 'attack', 'attack', 'attack', 'attack', 'other', 'attack', 'attack', 'attack', 'attack', 'attack', 'attack', 'undetermined', 'undetermined', 'other', 'other', 'attack', 'attack', 'other', 'attack', 'attack', 'other', 'other', 'undetermined', 'attack', 'undetermined', 'other', 'undetermined', 'attack', 'other', 'undetermined', 'attack', 'undetermined', 'other', 'other', 'other', 'attack', 'attack', 'attack', 'undetermined', 'attack', 'attack', 'other', 'attack', 'other', 'other', 'other', 'other', 'attack', 'attack', 'other', 'attack', 'other', 'attack', 'attack', 'attack', 'other', 'other', 'other', 'attack', 'other', 'attack', 'attack', 'other', 'attack', 'attack', 'other', 'attack', 'other', 'other', 'other', 'attack', 'attack', 'other', 'other', 'attack', 'other', 'attack', 'other', 'other', 'attack', 'other', 'attack', 'other', 'attack', 'attack', 'other', 'other', 'attack', 'other', 'other', 'other', 'attack', 'attack', 'attack', 'other', 'other', 'other', 'attack', 'attack', 'other', 'attack', 'other', 'attack', 'other', 'attack', 'attack', 'other', 'attack', 'attack', 'attack', 'attack', 'other', 'attack', 'attack', 'attack', 'attack', 'other', 'attack', 'attack', 'attack', 'other', 'other', 'attack', 'attack', 'attack', 'other', 'other', 'attack', 'attack', 'attack', 'other', 'other', 'other', 'attack', 'other', 'other', 'undetermined', 'attack', 'attack', 'attack', 'attack', 'attack', 'attack', 'other', 'other', 'attack', 'attack', 'other', 'other', 'attack', 'attack', 'other', 'attack', 'other', 'other', 'other', 'attack', 'undetermined', 'other', 'attack', 'other', 'other', 'other', 'undetermined', 'undetermined', 'attack', 'attack', 'attack', 'attack', 'attack', 'attack', 'attack', 'other', 'attack', 'other', 'other', 'attack', 'attack', 'attack', 'other', 'other', 'attack', 'other', 'attack', 'attack', 'other', 'attack', 'other', 'attack', 'undetermined', 'attack', 'undetermined', 'attack', 'attack', 'other', 'attack', 'attack', 'attack', 'attack', 'attack', 'attack', 'attack', 'attack', 'other', 'other', 'other', 'undetermined', 'undetermined', 'attack', 'other', 'attack', 'undetermined', 'attack', 'attack', 'other', 'undetermined', 'attack', 'other', 'attack', 'other', 'attack', 'other', 'attack', 'attack', 'attack', 'attack', 'other', 'attack', 'other', 'attack', 'attack', 'attack', 'undetermined', 'other', 'attack', 'attack', 'attack', 'other', 'attack', 'other', 'other', 'other', 'other', 'attack', 'attack', 'other', 'attack', 'attack', 'attack', 'attack', 'other', 'attack', 'undetermined', 'attack', 'attack', 'other', 'attack', 'attack', 'other', 'other', 'attack', 'attack', 'other', 'attack', 'attack', 'attack', 'attack', 'other', 'attack', 'attack', 'other', 'attack', 'attack', 'other', 'other', 'attack', 'attack', 'other', 'other', 'attack', 'other', 'attack', 'attack', 'attack', 'attack', 'attack', 'undetermined', 'attack', 'attack', 'attack', 'attack', 'attack', 'undetermined', 'attack', 'attack', 'undetermined', 'other', 'attack', 'attack', 'attack', 'other', 'attack', 'other', 'attack', 'attack', 'other', 'attack', 'other', 'other', 'other', 'attack', 'attack', 'other', 'attack', 'attack', 'attack', 'attack', 'other', 'attack', 'other', 'attack', 'attack', 'attack', 'attack', 'other', 'attack', 'attack', 'attack', 'other', 'other', 'attack', 'attack', 'attack', 'attack', 'attack', 'attack', 'attack', 'attack', 'attack', 'other', 'other', 'attack', 'attack', 'attack', 'attack', 'attack', 'attack', 'other', 'attack', 'attack', 'attack', 'attack', 'other', 'attack', 'other', 'attack', 'attack', 'attack', 'other', 'other', 'attack', 'other', 'other', 'attack', 'other', 'attack', 'other', 'attack', 'other', 'other', 'attack', 'other', 'attack', 'attack', 'attack', 'attack', 'other', 'other', 'attack', 'other', 'other', 'other', 'attack', 'attack', 'other', 'attack', 'attack', 'attack', 'attack', 'other', 'attack', 'attack', 'attack', 'other', 'attack', 'attack', 'other', 'attack', 'attack', 'other', 'other', 'attack', 'attack', 'attack', 'undetermined', 'other', 'attack', 'other', 'other', 'attack', 'attack', 'attack', 'other', 'attack', 'other', 'attack', 'attack', 'other', 'other', 'attack', 'other', 'other', 'attack', 'attack', 'other', 'undetermined', 'attack', 'other', 'attack', 'attack', 'attack', 'attack', 'attack', 'other', 'attack', 'other', 'attack', 'attack', 'other', 'attack', 'attack', 'attack', 'other', 'other', 'other', 'False', 'attack', 'attack', 'other', 'other', 'attack', 'other', 'other', 'other', 'other', 'attack', 'attack', 'attack', 'attack', 'other', 'attack', 'attack', 'attack', 'other', 'attack', 'attack', 'attack', 'other', 'attack', 'other', 'attack', 'attack', 'other', 'attack', 'undetermined', 'other', 'attack', 'attack', 'attack', 'attack', 'attack', 'attack', 'attack', 'attack', 'other', 'attack', 'other', 'attack', 'attack', 'other', 'attack', 'other', 'undetermined', 'attack', 'attack', 'attack', 'attack', 'other', 'attack', 'undetermined', 'attack', 'other', 'attack', 'undetermined', 'attack', 'attack', 'attack', 'other', 'attack', 'other', 'attack', 'attack', 'attack', 'attack', 'other', 'attack', 'attack', 'attack', 'attack', 'attack', 'attack', 'other', 'other', 'attack', 'attack', 'attack', 'attack', 'other', 'undetermined', 'attack', 'undetermined', 'attack', 'attack', 'other', 'other', 'attack', 'other', 'other', 'other', 'attack', 'other', 'attack', 'other', 'undetermined', 'undetermined', 'other', 'other', 'other', 'other', 'other', 'other', 'attack', 'other', 'attack', 'other', 'other', 'attack', 'attack', 'attack', 'attack', 'attack', 'undetermined', 'other', 'attack', 'attack', 'attack', 'attack', 'other', 'other', 'attack', 'attack', 'attack', 'other', 'other', 'attack', 'attack', 'attack', 'attack', 'attack', 'attack', 'attack', 'other', 'attack', 'attack', 'attack', 'other', 'other', 'attack', 'attack', 'other', 'other', 'attack', 'undetermined', 'other', 'other', 'attack', 'attack', 'other', 'attack', 'attack', 'attack', 'undetermined', 'other', 'attack', 'attack', 'attack', 'attack', 'other', 'attack', 'attack', 'other', 'attack', 'attack', 'other', 'other', 'attack', 'attack', 'attack', 'attack', 'other', 'attack', 'other', 'attack', 'attack', 'attack', 'other', 'attack', 'other', 'attack', 'undetermined', 'other', 'other', 'other', 'other', 'attack', 'other', 'other', 'attack', 'attack', 'other', 'other', 'attack', 'other', 'other', 'attack', 'attack', 'other', 'other', 'other', 'attack', 'other', 'attack', 'undetermined', 'attack', 'attack', 'undetermined', 'other', 'other', 'other', 'attack', 'other', 'attack', 'other', 'attack', 'other', 'attack', 'attack', 'attack', 'other', 'attack', 'attack', 'attack', 'attack', 'attack', 'attack', 'attack', 'undetermined', 'attack', 'other', 'attack', 'other', 'other', 'other', 'other', 'other', 'attack', 'attack', 'other', 'attack', 'undetermined', 'undetermined', 'undetermined', 'attack', 'other', 'other', 'attack', 'other', 'other', 'attack', 'undetermined', 'other', 'attack', 'attack', 'undetermined', 'attack', 'attack', 'attack', 'attack', 'other', 'other', 'other', 'attack', 'attack', 'other', 'undetermined', 'undetermined', 'other', 'other', 'attack', 'other', 'attack', 'undetermined', 'undetermined', 'attack', 'other', 'attack', 'attack', 'attack', 'attack', 'other', 'attack', 'other', 'attack', 'other', 'attack', 'other', 'undetermined', 'attack', 'other', 'undetermined', 'attack', 'other', 'other', 'undetermined', 'attack', 'other', 'attack', 'other', 'attack', 'other', 'attack', 'attack', 'attack', 'undetermined', 'undetermined', 'attack', 'attack', 'undetermined', 'other', 'attack', 'undetermined', 'attack', 'other', 'attack', 'other', 'attack', 'attack', 'other', 'other', 'attack', 'other', 'other', 'other', 'attack', 'attack', 'other', 'other', 'other', 'attack', 'attack', 'other', 'other', 'other', 'other', 'other', 'other', 'other', 'attack', 'attack', 'attack', 'other', 'other', 'other', 'attack', 'attack', 'attack', 'attack', 'attack', 'attack', 'other', 'attack', 'other', 'attack', 'attack', 'attack', 'attack', 'undetermined', 'other', 'attack', 'attack', 'other', 'other', 'other', 'attack', 'attack', 'attack', 'attack', 'other', 'attack', 'attack', 'other', 'other', 'attack', 'other', 'other', 'attack', 'attack', 'attack', 'attack', 'other', 'other', 'attack', 'attack', 'attack', 'attack', 'attack', 'other', 'attack', 'undetermined', 'attack', 'attack', 'attack', 'undetermined', 'attack', 'other', 'other', 'attack', 'undetermined', 'undetermined', 'undetermined', 'attack', 'undetermined', 'other', 'other', 'other', 'attack', 'attack', 'attack', 'attack', 'attack', 'attack', 'undetermined', 'attack', 'undetermined', 'attack', 'attack', 'attack', 'attack', 'attack', 'attack', 'attack', 'other', 'attack', 'other', 'other', 'other', 'other', 'other', 'attack', 'other', 'attack', 'attack', 'other', 'attack', 'attack', 'attack', 'other', 'attack', 'other', 'attack', 'other', 'undetermined', 'attack']\n"
     ]
    }
   ],
   "source": [
    "# we get weired output beacuse :\n",
    "# 1. we need to skip the header row\n",
    "# 2. convert each row into a list\n",
    "\n",
    "myfile=open('/home/aman/Documents/backup.csv')\n",
    "next(myfile)\n",
    "threat = []\n",
    "\n",
    "for i in myfile:\n",
    "    i= i.split(',')   #returns a list\n",
    "    threat.append(i[11])\n",
    "    \n",
    "print(threat)"
   ]
  },
  {
   "cell_type": "code",
   "execution_count": 5,
   "metadata": {},
   "outputs": [
    {
     "ename": "ValueError",
     "evalue": "invalid literal for int() with base 10: ''",
     "output_type": "error",
     "traceback": [
      "\u001b[0;31m---------------------------------------------------------------------------\u001b[0m",
      "\u001b[0;31mValueError\u001b[0m                                Traceback (most recent call last)",
      "\u001b[0;32m<ipython-input-5-6469138a5351>\u001b[0m in \u001b[0;36m<module>\u001b[0;34m()\u001b[0m\n\u001b[1;32m     11\u001b[0m     \u001b[0mi\u001b[0m\u001b[0;34m=\u001b[0m \u001b[0mi\u001b[0m\u001b[0;34m.\u001b[0m\u001b[0msplit\u001b[0m\u001b[0;34m(\u001b[0m\u001b[0;34m','\u001b[0m\u001b[0;34m)\u001b[0m\u001b[0;34m\u001b[0m\u001b[0m\n\u001b[1;32m     12\u001b[0m     \u001b[0mx\u001b[0m\u001b[0;34m=\u001b[0m \u001b[0mi\u001b[0m\u001b[0;34m[\u001b[0m\u001b[0;36m5\u001b[0m\u001b[0;34m]\u001b[0m\u001b[0;34m.\u001b[0m\u001b[0mreplace\u001b[0m\u001b[0;34m(\u001b[0m\u001b[0;34m'years'\u001b[0m\u001b[0;34m,\u001b[0m\u001b[0;34m''\u001b[0m\u001b[0;34m)\u001b[0m\u001b[0;34m\u001b[0m\u001b[0m\n\u001b[0;32m---> 13\u001b[0;31m     \u001b[0mx\u001b[0m\u001b[0;34m=\u001b[0m \u001b[0mint\u001b[0m\u001b[0;34m(\u001b[0m\u001b[0mx\u001b[0m\u001b[0;34m)\u001b[0m\u001b[0;34m\u001b[0m\u001b[0m\n\u001b[0m\u001b[1;32m     14\u001b[0m     \u001b[0mage_list\u001b[0m\u001b[0;34m.\u001b[0m\u001b[0mappend\u001b[0m\u001b[0;34m(\u001b[0m\u001b[0mx\u001b[0m\u001b[0;34m)\u001b[0m\u001b[0;34m\u001b[0m\u001b[0m\n\u001b[1;32m     15\u001b[0m \u001b[0;34m\u001b[0m\u001b[0m\n",
      "\u001b[0;31mValueError\u001b[0m: invalid literal for int() with base 10: ''"
     ]
    }
   ],
   "source": [
    "# operations like min and max can be applied using max() and min()\n",
    "\n",
    "# if the age column had the suffix 'years' at its end, then the functions like min() and max() won't work\n",
    "# in that case we need to clean out data by removing the suffix\n",
    "\n",
    "myfile=open('/home/aman/Documents/backup.csv')\n",
    "next(myfile)\n",
    "age_list = []\n",
    "\n",
    "for i in myfile:\n",
    "    i= i.split(',') \n",
    "    x= i[5].replace('years','')\n",
    "    x= int(x)\n",
    "    age_list.append(x)\n",
    "    \n",
    "print(max(age_list))"
   ]
  },
  {
   "cell_type": "code",
   "execution_count": null,
   "metadata": {
    "collapsed": true
   },
   "outputs": [],
   "source": []
  }
 ],
 "metadata": {
  "kernelspec": {
   "display_name": "Python 3",
   "language": "python",
   "name": "python3"
  },
  "language_info": {
   "codemirror_mode": {
    "name": "ipython",
    "version": 3
   },
   "file_extension": ".py",
   "mimetype": "text/x-python",
   "name": "python",
   "nbconvert_exporter": "python",
   "pygments_lexer": "ipython3",
   "version": "3.5.3"
  }
 },
 "nbformat": 4,
 "nbformat_minor": 2
}
