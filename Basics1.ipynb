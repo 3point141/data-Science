{
 "cells": [
  {
   "cell_type": "code",
   "execution_count": null,
   "metadata": {
    "collapsed": true
   },
   "outputs": [],
   "source": [
    "#to open a .csv file\n",
    "myfile=open('/home/aman/Desktop/data/a.csv')\n",
    "print(myfile)"
   ]
  },
  {
   "cell_type": "code",
   "execution_count": null,
   "metadata": {
    "scrolled": true
   },
   "outputs": [],
   "source": [
    "# file name can also be used as variable\n",
    "a=open('/home/aman/Desktop/data/a.csv')\n",
    "print(a)"
   ]
  },
  {
   "cell_type": "code",
   "execution_count": null,
   "metadata": {},
   "outputs": [],
   "source": [
    "# to read the contents of file\n",
    "print(a.read())"
   ]
  },
  {
   "cell_type": "code",
   "execution_count": null,
   "metadata": {},
   "outputs": [],
   "source": [
    "# te read just the first line of the csv file\n",
    "firstline=myfile.readline()\n",
    "print(firstline)"
   ]
  },
  {
   "cell_type": "code",
   "execution_count": null,
   "metadata": {},
   "outputs": [],
   "source": [
    "# to print the list of each row\n",
    "print(myfile.readlines())"
   ]
  },
  {
   "cell_type": "code",
   "execution_count": null,
   "metadata": {},
   "outputs": [],
   "source": [
    "# data in the .csv file can be read and interpreted many time using loops\n",
    "b=open('/home/aman/Desktop/data/a.csv')\n",
    "for i in b:\n",
    "    print(i)"
   ]
  },
  {
   "cell_type": "code",
   "execution_count": null,
   "metadata": {},
   "outputs": [],
   "source": [
    "# length of each row can be calculated using the len() function\n",
    "c=open('/home/aman/Desktop/data/a.csv')\n",
    "for i in c:\n",
    "    print(len(i))"
   ]
  },
  {
   "cell_type": "code",
   "execution_count": null,
   "metadata": {},
   "outputs": [],
   "source": [
    "# files can be opened in three modes\n",
    "# 1. read \n",
    "# 2. write\n",
    "# 3. append\n",
    "# for read use 'r'\n",
    "myfile=open('/home/aman/Desktop/data/a.csv','r')\n",
    "print(myfile)"
   ]
  },
  {
   "cell_type": "code",
   "execution_count": null,
   "metadata": {},
   "outputs": [],
   "source": [
    "# to write in a .csv file use 'w' tag\n",
    "# note: writing directly into a file erases previous data and starts writing from beginning\n",
    "\n",
    "myfile=open('/home/aman/Desktop/data/a.csv','w')\n",
    "myfile.write(\"input1\")\n"
   ]
  },
  {
   "cell_type": "code",
   "execution_count": null,
   "metadata": {},
   "outputs": [],
   "source": [
    "# if we want to read and write at the same time then we need to use 'r+' instead of 'r' and 'w'\n",
    "myfile=open('/home/aman/Desktop/data/a.csv','r+')\n",
    "myfile.write(\"test1\")\n",
    "\n",
    "print(myfile.read())\n",
    "\n",
    "#no output will be generated as the pointer after writing is at the end of file\n"
   ]
  },
  {
   "cell_type": "code",
   "execution_count": null,
   "metadata": {},
   "outputs": [],
   "source": [
    "# to bring the pointer at the beginning use seek()\n",
    "\n",
    "myfile=open('/home/aman/Desktop/data/a.csv','r+')\n",
    "myfile.write(\"test1\")\n",
    "myfile.seek(0)\n",
    "print(myfile.read())\n"
   ]
  },
  {
   "cell_type": "code",
   "execution_count": null,
   "metadata": {},
   "outputs": [],
   "source": [
    "# instead of rewriting the file, we can append it\n",
    "#for appending a file use 'a' and for \n",
    "#appending and reading at same time use 'a+'\n",
    "\n",
    "myfile=open('/home/aman/Desktop/data/a.csv','a+')\n",
    "myfile.write(\"1,2,aman,1.2,working\")\n",
    "myfile.seek(0)\n",
    "print(myfile.read())\n"
   ]
  },
  {
   "cell_type": "code",
   "execution_count": null,
   "metadata": {
    "collapsed": true
   },
   "outputs": [],
   "source": [
    "# it always a good habbit to close the file. Use close()\n",
    "myfile.close()\n"
   ]
  },
  {
   "cell_type": "raw",
   "metadata": {
    "collapsed": true
   },
   "source": [
    "# to jump to next line in file... \n",
    "# use next()"
   ]
  }
 ],
 "metadata": {
  "kernelspec": {
   "display_name": "Python 3",
   "language": "python",
   "name": "python3"
  },
  "language_info": {
   "codemirror_mode": {
    "name": "ipython",
    "version": 3
   },
   "file_extension": ".py",
   "mimetype": "text/x-python",
   "name": "python",
   "nbconvert_exporter": "python",
   "pygments_lexer": "ipython3",
   "version": "3.5.3"
  }
 },
 "nbformat": 4,
 "nbformat_minor": 2
}
